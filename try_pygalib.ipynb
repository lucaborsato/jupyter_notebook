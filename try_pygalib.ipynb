{
 "cells": [
  {
   "cell_type": "markdown",
   "metadata": {},
   "source": [
    "TESTING PYGALIB"
   ]
  },
  {
   "cell_type": "code",
   "execution_count": 1,
   "metadata": {},
   "outputs": [],
   "source": [
    "import numpy as np\n",
    "import pygalib"
   ]
  },
  {
   "cell_type": "markdown",
   "metadata": {},
   "source": [
    "Define an object of reference and the function to minimize!"
   ]
  },
  {
   "cell_type": "code",
   "execution_count": 22,
   "metadata": {},
   "outputs": [
    {
     "name": "stdout",
     "output_type": "stream",
     "text": [
      "n_trial =  96\n",
      "n_c =  24  n_c / 4 =  6\n",
      "n_i =  72  n_i / 4 =  18\n",
      "\n",
      "24 72\n",
      "96\n"
     ]
    }
   ],
   "source": [
    "class reference_seq:\n",
    "    def __init__(self):\n",
    "        self.seq_c = []\n",
    "        self.seq_i = []\n",
    "        self.seq = []\n",
    "        self.n_c = 0\n",
    "        self.n_i = 0\n",
    "        \n",
    "        self.n_cc = 0\n",
    "        self.n_ii = 0\n",
    "        self.n_ci = 0\n",
    "        self.n_ic = 0\n",
    "        self.n_ccc = 0\n",
    "        self.n_cci = 0\n",
    "        self.n_cii = 0\n",
    "        self.n_iii = 0\n",
    "        self.n_iic = 0\n",
    "        self.n_icc = 0\n",
    "        \n",
    "        self.m_cc = 0\n",
    "        self.m_ii = 0\n",
    "        self.m_ci = 0\n",
    "        self.m_ic = 0\n",
    "        self.m_ccc = 0\n",
    "        self.m_cci = 0\n",
    "        self.m_cii = 0\n",
    "        self.m_iii = 0\n",
    "        self.m_iic = 0\n",
    "        self.m_icc = 0\n",
    "        \n",
    "    def set_n_c_n_i(self):\n",
    "        self.n_c = len(self.seq_c)\n",
    "        self.n_i = len(self.seq_i)\n",
    "    \n",
    "    def count_2seq(self):\n",
    "        seq_2 = [self.seq[i-1][2] + self.seq[i][2] for i in range(1,len(self.seq))]\n",
    "        \n",
    "        \n",
    "ref1 = reference_seq()\n",
    "\n",
    "n_trial = 96\n",
    "n_c = int(96*0.25)\n",
    "n_i = n_trial - n_c\n",
    "print 'n_trial = ', n_trial\n",
    "nn_c = n_c / 4\n",
    "print 'n_c = ', n_c, ' n_c / 4 = ', nn_c\n",
    "nn_i = n_i / 4\n",
    "print 'n_i = ', n_i, ' n_i / 4 = ', nn_i\n",
    "print\n",
    "\n",
    "ref1.seq_c =  [[1,1,'C'] for i in range(0, nn_c)]\n",
    "ref1.seq_c += [[2,2,'C'] for i in range(0, nn_c)]\n",
    "ref1.seq_c += [[3,3,'C'] for i in range(0, nn_c)]\n",
    "ref1.seq_c += [[4,4,'C'] for i in range(0, nn_c)]\n",
    "\n",
    "ref1.seq_i =  [[1,2,'I']]\n",
    "ref1.seq_i += [[2,1,'I']]\n",
    "\n",
    "ref1.seq_i += [[1,3,'I']]\n",
    "ref1.seq_i += [[3,1,'I']]\n",
    "\n",
    "ref1.seq_i += [[1,4,'I']]\n",
    "ref1.seq_i += [[4,1,'I']]\n",
    "\n",
    "ref1.seq_i += [[2,3,'I']]\n",
    "ref1.seq_i += [[3,2,'I']]\n",
    "\n",
    "ref1.seq_i += [[2,4,'I']]\n",
    "ref1.seq_i += [[4,2,'I']]\n",
    "\n",
    "ref1.seq_i += [[3,4,'I']]\n",
    "ref1.seq_i += [[4,3,'I']]\n",
    "\n",
    "ref1.seq_i = [ref1.seq_i for i in range(0, n_i)]\n",
    "\n",
    "ref1.set_n_c_n_i()\n",
    "print ref1.n_c, ref1.n_i\n",
    "\n",
    "ref1.seq = ref1.seq_c + ref1.seq_i\n",
    "print len(ref1.seq)\n",
    "\n",
    "def please_reach_zero(p, ref_set):\n",
    "    \n",
    "    return to_min"
   ]
  },
  {
   "cell_type": "code",
   "execution_count": null,
   "metadata": {},
   "outputs": [],
   "source": []
  }
 ],
 "metadata": {
  "kernelspec": {
   "display_name": "Python 2",
   "language": "python",
   "name": "python2"
  },
  "language_info": {
   "codemirror_mode": {
    "name": "ipython",
    "version": 2
   },
   "file_extension": ".py",
   "mimetype": "text/x-python",
   "name": "python",
   "nbconvert_exporter": "python",
   "pygments_lexer": "ipython2",
   "version": "2.7.12"
  }
 },
 "nbformat": 4,
 "nbformat_minor": 2
}
