{
 "cells": [
  {
   "cell_type": "markdown",
   "metadata": {},
   "source": [
    "# TRYING TO DETERMINE THE PROPER VALUE FROM KEPLER QUALITY"
   ]
  },
  {
   "cell_type": "markdown",
   "metadata": {},
   "source": [
    "Basic imports"
   ]
  },
  {
   "cell_type": "code",
   "execution_count": 1,
   "metadata": {
    "collapsed": true
   },
   "outputs": [],
   "source": [
    "%matplotlib inline\n",
    "import numpy as np\n",
    "import matplotlib as mpl\n",
    "import matplotlib.pyplot as plt"
   ]
  },
  {
   "cell_type": "markdown",
   "metadata": {},
   "source": [
    "Define the Kepler quality flags as in Kepler Archive Manual"
   ]
  },
  {
   "cell_type": "code",
   "execution_count": 3,
   "metadata": {
    "collapsed": true
   },
   "outputs": [],
   "source": [
    "# The meaning of the various flags are described in the Kepler Archive Manual\n",
    "KEPLER_QUALITY_FLAGS = {\n",
    "    1: \"Attitude tweak\",\n",
    "    2: \"Safe mode\",\n",
    "    4: \"Coarse point\",\n",
    "    8: \"Earth point\",\n",
    "    16: \"Zero crossing\",\n",
    "    32: \"Desaturation event\",\n",
    "    64: \"Argabrightening\",\n",
    "    128: \"Cosmic ray\",\n",
    "    256: \"Manual exclude\",\n",
    "    1024: \"Sudden sensitivity dropout\",\n",
    "    2048: \"Impulsive outlier\",\n",
    "    4096: \"Argabrightening\",\n",
    "    8192: \"Cosmic ray\",\n",
    "    16384: \"Detector anomaly\",\n",
    "    32768: \"No fine point\",\n",
    "    65536: \"No data\",\n",
    "    131072: \"Rolling band\",\n",
    "    262144: \"Rolling band\",\n",
    "    524288: \"Possible thruster firing\",\n",
    "    1048576: \"Thruster firing\"\n",
    "}"
   ]
  },
  {
   "cell_type": "markdown",
   "metadata": {},
   "source": [
    "Define the function that given a quality value determines the combination of proper values"
   ]
  },
  {
   "cell_type": "code",
   "execution_count": 33,
   "metadata": {
    "collapsed": false
   },
   "outputs": [],
   "source": [
    "def get_quality_combination(q, Kflags):\n",
    "    \n",
    "    if(q > 0):\n",
    "        if(q%2 != 0):\n",
    "            print 'ODD QUALITY!!'\n",
    "            es, qvals, qflags = [], q, 'ODD INPUT QUALITY'\n",
    "        else:\n",
    "            es = [] # exponents\n",
    "            nes = 0\n",
    "            r = q # reminder\n",
    "            while True:\n",
    "                es.append(int(np.log2(r)))\n",
    "                nes = len(es)\n",
    "                r = q - int(np.sum([np.power(2., es[ies]) for ies in range(0,nes)]))\n",
    "                if(r <= 0):\n",
    "                    break\n",
    "                if(nes >= len(Kflags)):\n",
    "                    break\n",
    "            print 'FOUND %d EXPONENTS' %(nes)\n",
    "            print '%10s %10s  %s' %('exp', 'value', 'flag')\n",
    "            qvals = [int(np.power(2., es[ies])) for ies in range(0,nes)]\n",
    "            qflags = [Kflags[qvals[ies]] for ies in range(0,nes)]\n",
    "            for ies in range(0, nes):\n",
    "                print '%10d %10d  %s' %(es[ies], qvals[ies], Kflags[qvals[ies]])\n",
    "    else:\n",
    "        print 'GOOD POINT: QUALITY = %d' %(q)\n",
    "        es, qvals, qflags = [], 0, 'Good'\n",
    "    \n",
    "    return es, qvals, qflags"
   ]
  },
  {
   "cell_type": "markdown",
   "metadata": {},
   "source": [
    "Testing with one value of q:"
   ]
  },
  {
   "cell_type": "code",
   "execution_count": 34,
   "metadata": {
    "collapsed": false
   },
   "outputs": [
    {
     "name": "stdout",
     "output_type": "stream",
     "text": [
      "\n",
      "INPUT QUALITY: 1\n",
      "ODD QUALITY!!\n",
      "\n",
      "INPUT QUALITY: 2\n",
      "FOUND 1 EXPONENTS\n",
      "       exp      value  flag\n",
      "         1          2  Safe mode\n",
      "\n",
      "INPUT QUALITY: 4\n",
      "FOUND 1 EXPONENTS\n",
      "       exp      value  flag\n",
      "         2          4  Coarse point\n",
      "\n",
      "INPUT QUALITY: 128\n",
      "FOUND 1 EXPONENTS\n",
      "       exp      value  flag\n",
      "         7        128  Cosmic ray\n",
      "\n",
      "INPUT QUALITY: 1280\n",
      "FOUND 2 EXPONENTS\n",
      "       exp      value  flag\n",
      "        10       1024  Sudden sensitivity dropout\n",
      "         8        256  Manual exclude\n",
      "\n",
      "INPUT QUALITY: 2048\n",
      "FOUND 1 EXPONENTS\n",
      "       exp      value  flag\n",
      "        11       2048  Impulsive outlier\n",
      "\n",
      "INPUT QUALITY: 2192\n",
      "FOUND 3 EXPONENTS\n",
      "       exp      value  flag\n",
      "        11       2048  Impulsive outlier\n",
      "         7        128  Cosmic ray\n",
      "         4         16  Zero crossing\n",
      "\n",
      "INPUT QUALITY: 65536\n",
      "FOUND 1 EXPONENTS\n",
      "       exp      value  flag\n",
      "        16      65536  No data\n"
     ]
    }
   ],
   "source": [
    "q = [1, 2, 4, 128, 1280, 2048, 2192, 65536]\n",
    "for iq in range(len(q)):\n",
    "    print '\\nINPUT QUALITY: %d' %(q[iq])\n",
    "    ex, qvals, qflags = get_quality_combination(q[iq], KEPLER_QUALITY_FLAGS)"
   ]
  },
  {
   "cell_type": "code",
   "execution_count": null,
   "metadata": {
    "collapsed": true
   },
   "outputs": [],
   "source": []
  }
 ],
 "metadata": {
  "kernelspec": {
   "display_name": "Python 2",
   "language": "python",
   "name": "python2"
  },
  "language_info": {
   "codemirror_mode": {
    "name": "ipython",
    "version": 2
   },
   "file_extension": ".py",
   "mimetype": "text/x-python",
   "name": "python",
   "nbconvert_exporter": "python",
   "pygments_lexer": "ipython2",
   "version": "2.7.11"
  }
 },
 "nbformat": 4,
 "nbformat_minor": 0
}
