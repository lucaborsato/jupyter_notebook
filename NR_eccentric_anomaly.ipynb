{
 "cells": [
  {
   "cell_type": "markdown",
   "metadata": {},
   "source": [
    "# Determine the Eccentric Anomaly with N-R method."
   ]
  },
  {
   "cell_type": "code",
   "execution_count": 6,
   "metadata": {},
   "outputs": [],
   "source": [
    "%matplotlib inline\n",
    "import numpy as np\n",
    "import os\n",
    "import matplotlib.pyplot as plt\n",
    "plt.rcParams['text.usetex'] = True\n",
    "plt.rcParams['font.family'] = 'serif'\n",
    "import scipy.optimize as sopt"
   ]
  },
  {
   "cell_type": "code",
   "execution_count": 10,
   "metadata": {},
   "outputs": [],
   "source": [
    "def func_e(eanom, ecc, manom):\n",
    "    \n",
    "    fe = eanom - ecc*np.sin(eanom) - manom\n",
    "    return fe"
   ]
  },
  {
   "cell_type": "code",
   "execution_count": 11,
   "metadata": {},
   "outputs": [],
   "source": [
    "def dfunc_e(eanom, ecc, manom):\n",
    "    \n",
    "    dfe = 1. - ecc*np.cos(eanom)\n",
    "    \n",
    "    return dfe"
   ]
  },
  {
   "cell_type": "code",
   "execution_count": 14,
   "metadata": {},
   "outputs": [
    {
     "name": "stdout",
     "output_type": "stream",
     "text": [
      "manom(0) = 88.00000 ==> eanom = 118.27554\n"
     ]
    }
   ],
   "source": [
    "ma0 = 88.\n",
    "ma0_r = ma0*np.pi/180.\n",
    "ecc = 0.6\n",
    "zsol = sopt.newton(func_e, ma0_r, fprime=dfunc_e, args=(ecc, ma0_r), maxiter=300, tol=1.e-9)\n",
    "print 'manom(0) = %.5f ==> eanom = %.5f' %(ma0, zsol*180./np.pi)"
   ]
  },
  {
   "cell_type": "code",
   "execution_count": null,
   "metadata": {},
   "outputs": [],
   "source": []
  }
 ],
 "metadata": {
  "kernelspec": {
   "display_name": "Python 2",
   "language": "python",
   "name": "python2"
  },
  "language_info": {
   "codemirror_mode": {
    "name": "ipython",
    "version": 2
   },
   "file_extension": ".py",
   "mimetype": "text/x-python",
   "name": "python",
   "nbconvert_exporter": "python",
   "pygments_lexer": "ipython2",
   "version": "2.7.15"
  }
 },
 "nbformat": 4,
 "nbformat_minor": 2
}
