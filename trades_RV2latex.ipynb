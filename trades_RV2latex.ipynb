{
 "cells": [
  {
   "cell_type": "markdown",
   "metadata": {},
   "source": [
    "Given file for TRADES with Radial Velocities (RV) it returns a latex style file."
   ]
  },
  {
   "cell_type": "code",
   "execution_count": 6,
   "metadata": {},
   "outputs": [],
   "source": [
    "import numpy as np\n",
    "import os\n",
    "# custom costants module from LucaBorsato\n",
    "import pyconstants as cst"
   ]
  },
  {
   "cell_type": "code",
   "execution_count": 8,
   "metadata": {},
   "outputs": [],
   "source": [
    "class RV_data:\n",
    "    \n",
    "    def __init__(self):\n",
    "        self.bjd = []\n",
    "        self.RVms = []\n",
    "        self.eRVms = []\n",
    "        self.rv_set = []\n",
    "        self.nrv_set = 0\n",
    "    \n",
    "    def read_input(self,rv_file):\n",
    "    \n",
    "        # time_bjd rv_ms erv_ms rvsetid\n",
    "        data = np.genfromtxt(rv_file,\n",
    "                             dtype=[('bjd','f8'),\n",
    "                                    ('RVms','f8'),('eRVms','f8'),\n",
    "                                    ('rvset','i8')\n",
    "                                   ]\n",
    "                            )\n",
    "        self.bjd = data['bjd']\n",
    "        self.RVms = data['RVms']\n",
    "        self.eRVms = data['eRVms']\n",
    "        self.rv_set = data['rvset']\n",
    "        self.nrv_set = np.shape(np.unique(self.rv_set))[0]\n",
    "        \n",
    "    def write_output(self,out_file):\n",
    "        \n",
    "        oheader = 'BJD$_\\textrm{TDB}$ & RV (ms$^1$) & $\\sigma_\\textrm{RV} (ms$^1$) & RV Set'\n",
    "        of = open(out_file, 'w')\n",
    "        nrv = np.shape(self.bjd)[0]\n",
    "        if(self.nrv_set == 1):\n",
    "            for i in range(0,nrv):\n",
    "                line = '%12.5f & %9.2f & %7.2f \\\\\\\\ \\n' %(self.bjd[i],\n",
    "                                                          self.RVms[i], self.eRVms[i]\n",
    "                                                          )\n",
    "                of.write(line)\n",
    "        else:\n",
    "            for i in range(0,nrv):\n",
    "                line = '%12.5f & %9.2f & %7.2f & %d \\\\\\\\ \\n' %(self.bjd[i],\n",
    "                                                               self.RVms[i], self.eRVms[i],\n",
    "                                                               self.rv_set[i]\n",
    "                                                              )\n",
    "                of.write(line)\n",
    "        of.close()\n"
   ]
  },
  {
   "cell_type": "markdown",
   "metadata": {},
   "source": [
    "Provide folder, input & output file for each body."
   ]
  },
  {
   "cell_type": "code",
   "execution_count": 9,
   "metadata": {},
   "outputs": [],
   "source": [
    "mdir = os.path.abspath('/home/borsato/Dropbox/Research/Kepler/K9/RV/')\n",
    "ifile = os.path.join(mdir, '2016-09-02_obsRV.dat')\n",
    "ofile = os.path.join(mdir, 'K9_RV.tex')\n",
    "rv = RV_data()\n",
    "rv.read_input(ifile)\n",
    "rv.write_output(ofile)"
   ]
  },
  {
   "cell_type": "code",
   "execution_count": null,
   "metadata": {},
   "outputs": [],
   "source": []
  }
 ],
 "metadata": {
  "kernelspec": {
   "display_name": "Python 2",
   "language": "python",
   "name": "python2"
  },
  "language_info": {
   "codemirror_mode": {
    "name": "ipython",
    "version": 2
   },
   "file_extension": ".py",
   "mimetype": "text/x-python",
   "name": "python",
   "nbconvert_exporter": "python",
   "pygments_lexer": "ipython2",
   "version": "2.7.15"
  }
 },
 "nbformat": 4,
 "nbformat_minor": 2
}
