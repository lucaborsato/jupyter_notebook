{
 "cells": [
  {
   "cell_type": "markdown",
   "metadata": {},
   "source": [
    "# BULK DENSITY\n",
    "Reads derived_posteriors.hdf5 fromt TRADES-analysis and computes bulk densities.\n",
    "Provides planetary radius with errors in the same unit of the masses in the hdf5 file."
   ]
  },
  {
   "cell_type": "code",
   "execution_count": 1,
   "metadata": {
    "collapsed": true
   },
   "outputs": [],
   "source": [
    "%matplotlib inline\n",
    "import numpy as np\n",
    "import matplotlib.pyplot as plt\n",
    "plt.rcParams['text.usetex'] = True\n",
    "plt.rcParams['font.family'] = 'serif'\n",
    "import os\n",
    "import h5py\n",
    "import pyconstants as cst"
   ]
  },
  {
   "cell_type": "markdown",
   "metadata": {},
   "source": [
    "Reads hdf5 file with derived posteriors and selects only masses."
   ]
  },
  {
   "cell_type": "code",
   "execution_count": 2,
   "metadata": {
    "collapsed": true
   },
   "outputs": [],
   "source": [
    "def read_derpost(h5file):\n",
    "    \n",
    "    of = h5py.File(h5file, 'r')\n",
    "    \n",
    "    der_names_a = of['derived_names'][...]\n",
    "    der_units_a = of['units_derived'][...]\n",
    "    # keeps only masses: m#\n",
    "    nder = np.shape(der_names_a)[0]\n",
    "    idx_m = [i for i in range(0,nder) if der_names_a[i][0] == 'm' and der_names_a[i][1] != 'A']\n",
    "    m_names = [der_names_a[i] for i in idx_m]\n",
    "    m_units = [der_units_a[i] for i in idx_m]\n",
    "    npl = len(m_names)\n",
    "    gg = of['derived_posterior']\n",
    "    m_post = gg[...][:,idx_m]\n",
    "    of.close()\n",
    "    \n",
    "    return m_names, m_units, m_post"
   ]
  },
  {
   "cell_type": "markdown",
   "metadata": {},
   "source": [
    "Copy here functions to determine the number of bins in automatic... bins should be the same across the posterior."
   ]
  },
  {
   "cell_type": "code",
   "execution_count": 3,
   "metadata": {
    "collapsed": false
   },
   "outputs": [],
   "source": [
    "# ==============================================================================\n",
    "# STURGES RULE TO COMPUTE THE NUMBER OF BINS FOR HISTOGRAM\n",
    "# ==============================================================================\n",
    "\n",
    "def sturges_nbins(npost):\n",
    "    '''\n",
    "    Following Sturges' rule:\n",
    "    nbins = log2(n) + 1\n",
    "    '''\n",
    "    nbins = np.ceil(np.log2(np.float64(npost))).astype(int) + 1\n",
    "\n",
    "    return nbins\n",
    "\n",
    "# ==============================================================================\n",
    "# FREEDMAN-DIACONIS RULE TO COMPUTE THE NUMBER OF BINS FOR HISTOGRAM\n",
    "# ==============================================================================\n",
    "\n",
    "def freedman_diaconis_nbins(x):\n",
    "    '''\n",
    "    Following Freedman-Diaconis rule:\n",
    "    width = 2 * IRQ / n^1/3\n",
    "    nbins = [ (max-min) / width ]\n",
    "    '''\n",
    "    q75 = np.percentile(x, 75., interpolation='midpoint')\n",
    "    q25 = np.percentile(x, 25., interpolation='midpoint')\n",
    "    irq = np.abs(q75-q25)\n",
    "    nx = np.float64(np.shape(x)[0])\n",
    "    width = 2. * irq / np.power(nx,1./3.)\n",
    "    nbins = np.ceil(np.abs(np.max(x)-np.min(x))/width).astype(int)\n",
    "\n",
    "    return nbins\n",
    "\n",
    "# ==============================================================================\n",
    "# DOANE'S FORMULA TO COMPUTE THE NUMBER OF BINS FOR HISTOGRAM\n",
    "# ==============================================================================\n",
    "\n",
    "def doane_nbins(x):\n",
    "    '''\n",
    "    Doane's formula:\n",
    "     nbins = 1 + lon2(n) + log2(1 + |g1|/s_g1)\n",
    "     n: number of points/sample\n",
    "     g1 = 3rd-moment-skewness\n",
    "     s_g1 = sqrt( (6 x (n-2)) / ((n+1) x (n+3)) )\n",
    "    '''\n",
    "    nxf = np.float64(np.shape(x)[0])\n",
    "    mux = np.mean(x)\n",
    "    stdx = np.std(x, ddof=1)\n",
    "    g1 = np.mean(((x - mux) / stdx) ** 3)  # skew\n",
    "    s_g1 = np.sqrt(6. * (nxf - 2.) / ((nxf + 1.) * (nxf + 3.)))\n",
    "    #print nxf\n",
    "    #print mux,stdx\n",
    "    #print g1, s_g1\n",
    "    nbins = int(1. + np.log2(nxf) + np.log2(1. + np.abs(g1) / s_g1))\n",
    "\n",
    "    return nbins\n",
    "\n",
    "# ==============================================================================\n",
    "# GIVEN THE POSTERIOR IT SELECT THE PROPER NBINS FOR ALL THE PARAMETER DISTRIBUTIONS\n",
    "# ==============================================================================\n",
    "\n",
    "def get_auto_bins(posterior):\n",
    "\n",
    "    npost, nfit = np.shape(posterior)\n",
    "    # call Freedman-Diaconis rule\n",
    "    nbins_fd = [freedman_diaconis_nbins(posterior[:,ifit]) for ifit in range(nfit)]\n",
    "    # doane's formula\n",
    "    nbins_doa = [doane_nbins(posterior[:,ifit]) for ifit in range(nfit)]\n",
    "    # and Sturges' rule\n",
    "    nbins = int(np.mean([min(nbins_fd), min(nbins_doa), sturges_nbins(npost)]))\n",
    "\n",
    "    return nbins\n",
    "\n",
    "# ==============================================================================\n",
    "# HIGH DENSITY INTERVALS - DOING BAYESIAN DATA ANALYSIS by Kruschke\n",
    "# ==============================================================================\n",
    "\n",
    "def calculate_hdi(x, nbins, alpha=[0.05], mode_output=False):\n",
    "  \n",
    "    # 68.27% (15.87th-84.13th) ==> alpha = 1. - 0.6827 = 0.3173\n",
    "    # 95.44% ( 2.28th-97.72th) ==> alpha = 1. - 0.9544 = 0.0456\n",
    "    # 99.74% ( 0.13th-99.87th) ==> alpha = 1. - 0.9974 = 0.0026\n",
    "\n",
    "    counts, bin_edges = np.histogram(x, bins=nbins)\n",
    "    #nbins = len(counts)\n",
    "\n",
    "    bin_width = bin_edges[1] - bin_edges[0]\n",
    "    hwidth = 0.5*bin_width\n",
    "    bin_mid = [bin_edges[ibin]+hwidth for ibin in range(nbins)]\n",
    "\n",
    "    # probability mass distribution = (counts / ndata)\n",
    "    # probability density = probability mass distribution / bin_width\n",
    "    pmd = np.asarray(counts)/np.float64(np.shape(x)[0])\n",
    "    #pdd = pmd / bin_width\n",
    "    spmd = np.sort(pmd)[::-1]\n",
    "    hdi_ci = []\n",
    "    for ialpha in alpha:\n",
    "        lowestHeightIdx = np.min(np.where(np.cumsum(spmd) > (1. - ialpha)))\n",
    "        lowestHeight = spmd[lowestHeightIdx]\n",
    "        bin_sel = np.asarray(bin_mid)[pmd >= lowestHeight]\n",
    "        hdi_l = np.min(bin_sel) - hwidth\n",
    "        hdi_u = np.max(bin_sel) + hwidth\n",
    "        hdi_ci.append([hdi_l, hdi_u])\n",
    "\n",
    "    if(mode_output):\n",
    "        max_bin = np.argmax(np.array(counts))\n",
    "        #if (max_bin == 0 or max_bin == nbins):\n",
    "          #ext_bin = 0\n",
    "        #elif (max_bin == 1 or max_bin == nbins-1):\n",
    "          #ext_bin = 1\n",
    "        #else:\n",
    "          #ext_bin = 2\n",
    "        #sel_bin = np.logical_and(x >= bin_edges[max_bin-ext_bin],\n",
    "                                 #x < bin_edges[max_bin+ext_bin+1])\n",
    "        sel_bin = np.logical_and(x >= bin_edges[max_bin],\n",
    "                                 x < bin_edges[max_bin+1])\n",
    "\n",
    "        mode = np.mean(x[sel_bin])\n",
    "        hdi_ci.append(mode)\n",
    "  \n",
    "    return hdi_ci"
   ]
  },
  {
   "cell_type": "markdown",
   "metadata": {},
   "source": [
    "Computes density of one planetary mass posterior in Earth masses provided the radius (with neg. and pos. error) in same unit."
   ]
  },
  {
   "cell_type": "code",
   "execution_count": 4,
   "metadata": {
    "collapsed": true
   },
   "outputs": [],
   "source": [
    "def bulk_density(m, r):\n",
    "    \n",
    "    rho = m / np.power(r, 3)\n",
    "    \n",
    "    return rho\n",
    "    \n",
    "def bulk_density_post(m_post, r, r_ne, r_pe, seed=None):\n",
    "    \n",
    "    np.random.RandomState(seed=seed)\n",
    "    \n",
    "    npost = np.shape(m_post)[0]\n",
    "    # computes gaussian for radius r_v\n",
    "    gnorm = np.random.normal(0., 1, size=npost)\n",
    "    rg = r + gnorm*r_pe\n",
    "    neg = gnorm < 0.\n",
    "    rg[neg] = r + gnorm[neg]*np.abs(r_ne)\n",
    "\n",
    "    rho_post = m_post / np.power(rg, 3)\n",
    "    # not using the 4pi/3 because it is expressed in unit of m and r, eg. rho_earth\n",
    "    \n",
    "    return rg, rho_post"
   ]
  },
  {
   "cell_type": "markdown",
   "metadata": {},
   "source": [
    "Computes the hdi and plots the distributions."
   ]
  },
  {
   "cell_type": "code",
   "execution_count": 5,
   "metadata": {
    "collapsed": false
   },
   "outputs": [],
   "source": [
    "def plot_hdi(ax, hdi1, hdi2, hdi3):\n",
    "    \n",
    "    ax.axvline(hdi1[0], color='black', ls='-', lw=0.8)\n",
    "    ax.axvline(hdi1[1], color='black', ls='-', lw=0.8)\n",
    "    \n",
    "    ax.axvline(hdi2[0], color='gray', ls='--', lw=0.8)\n",
    "    ax.axvline(hdi2[1], color='gray', ls='--', lw=0.8)\n",
    "    \n",
    "    ax.axvline(hdi3[0], color='lightgray', ls='--', lw=0.8)\n",
    "    ax.axvline(hdi3[1], color='lightgray', ls='--', lw=0.8)\n",
    "    \n",
    "    return \n",
    "\n",
    "def print_hdi(alpha, hdi, rho_gcmc):\n",
    "    \n",
    "    \n",
    "    a = 'HDI(%5.2f): rho = [%.4f , %.4f] \\\\rho_\\oplus' %(100.*(1.-alpha), hdi[0], hdi[1])\n",
    "    b = '%s = [%.4f , %.4f] g/cm^3' %(a, hdi[0]*rho_gcmc, hdi[1]*rho_gcmc)\n",
    "    print b\n",
    "    \n",
    "    return\n",
    "\n",
    "def hdi_and_distributions(rho, m_post, r_post, rho_post, body_id=2, nbins=33, do_plot=True):\n",
    "    \n",
    "    vol_earth = 4.*np.pi*np.power(cst.Rear*1.e3, 3)/3.\n",
    "    rho_earth_kgmc = cst.Mear/vol_earth\n",
    "    kmc2gcmc = 1.e3 / np.power(1.e2, 3)\n",
    "    rho_earth_gcmc = rho_earth_kgmc * kmc2gcmc\n",
    "    \n",
    "    # HDI at 68.27% 95.44% 99.74%\n",
    "    alpha = [0.3173, 0.0456, 0.0026]\n",
    "    \n",
    "    hdi1 = calculate_hdi(rho_post, nbins, alpha=[alpha[0]], mode_output=False)[0]\n",
    "    hdi2 = calculate_hdi(rho_post, nbins, alpha=[alpha[1]], mode_output=False)[0]\n",
    "    hdi3 = calculate_hdi(rho_post, nbins, alpha=[alpha[2]], mode_output=False)[0]\n",
    "    \n",
    "    rho_gcm3 = rho*rho_earth_gcmc\n",
    "    \n",
    "    print\n",
    "    print 'Earth density: \\\\rho_\\oplus = %.3f kg/m^3 = %.6f g/cm^3' %(rho_earth_kgmc, rho_earth_gcmc)\n",
    "    print '   density: rho = %.4f \\\\rho_\\oplus = %.4f g/cm^3' %(rho, rho_gcm3)\n",
    "    print_hdi(alpha[0], hdi1, rho_earth_gcmc)\n",
    "    print_hdi(alpha[1], hdi2, rho_earth_gcmc)\n",
    "    print_hdi(alpha[2], hdi3, rho_earth_gcmc)\n",
    "    print ' **rho = %.4f _{%.4f} ^{%.4f} g/cm^{3}' %(rho_gcm3, hdi1[0]*rho_earth_gcmc-rho_gcm3, hdi1[1]*rho_earth_gcmc-rho_gcm3)\n",
    "\n",
    "    print\n",
    "    \n",
    "    letters = 'a b c d e f g h i j k l m n o p q r s t u v w x y z'.split()\n",
    "    lpl = letters[body_id-1]\n",
    "    mlabel = '$M_\\mathrm{%s}\\, (M_\\oplus)$' %(lpl)\n",
    "    rlabel = '$R_\\mathrm{%s}\\, (R_\\oplus)$' %(lpl)\n",
    "    rholabel = '$\\\\rho_\\mathrm{%s}\\, (\\\\rho_\\oplus)$' %(lpl)\n",
    "    \n",
    "    if(do_plot):\n",
    "        nrows, ncols = 2,2\n",
    "\n",
    "        fig=plt.figure(figsize=(14,10))\n",
    "\n",
    "        ax = plt.subplot2grid((nrows, ncols), (0,0), rowspan=1, colspan=1)\n",
    "        ax.hist(m_post, bins=nbins, density=True, stacked=True)\n",
    "        ax.set_ylabel('prob. density', fontsize=10)\n",
    "        ax.set_xlabel(mlabel, fontsize=14)\n",
    "\n",
    "        ax = plt.subplot2grid((nrows, ncols), (0,1), rowspan=1, colspan=1)\n",
    "        ax.hist(r_post, bins=nbins, density=True, stacked=True)\n",
    "        ax.set_ylabel('prob. density', fontsize=10)\n",
    "        ax.set_xlabel(rlabel, fontsize=14)\n",
    "\n",
    "        ax = plt.subplot2grid((nrows, ncols), (1,0), rowspan=1, colspan=2)\n",
    "        ax.hist(rho_post, bins=nbins, density=True, stacked=True)\n",
    "        ax.set_ylabel('prob. density', fontsize=10)\n",
    "        ax.set_xlabel(rholabel, fontsize=14)\n",
    "        plot_hdi(ax, hdi1, hdi2, hdi3)\n",
    "        ax.axvline(rho, color='C1', ls='-', lw=1.8)\n",
    "    \n",
    "    return"
   ]
  },
  {
   "cell_type": "markdown",
   "metadata": {},
   "source": [
    "#### Kepler-9"
   ]
  },
  {
   "cell_type": "code",
   "execution_count": 6,
   "metadata": {
    "collapsed": false
   },
   "outputs": [],
   "source": [
    "root_folder = os.path.abspath('/data2/borsato/TRADESsimulations')\n",
    "# main_folder = os.path.join(root_folder, 'Kepler-9/EMCEE/2018-06-20_K9_emcee_test_001/2108-06-20_run_001/')\n",
    "# main_folder = os.path.join(root_folder, 'Kepler-9/EMCEE/2018-07-19_K9_emcee_noRV_001/2018-09-13_run_001/noRV/')\n",
    "main_folder = os.path.join(root_folder, 'Kepler-9/EMCEE/2018-11-13_K9_emcee_noRV_001/2018-11-13_run_001/run_full/RV/')\n",
    "par_folder = os.path.join(main_folder, '0668_sim')\n",
    "der_file = os.path.join(main_folder, 'derived_posterior.hdf5')\n",
    "m_names, m_units, m_post = read_derpost(der_file)"
   ]
  },
  {
   "cell_type": "markdown",
   "metadata": {},
   "source": [
    "Computes the nbins from m_post."
   ]
  },
  {
   "cell_type": "code",
   "execution_count": 7,
   "metadata": {
    "collapsed": false
   },
   "outputs": [],
   "source": [
    "nbins = get_auto_bins(m_post)"
   ]
  },
  {
   "cell_type": "code",
   "execution_count": 8,
   "metadata": {
    "collapsed": false
   },
   "outputs": [
    {
     "name": "stdout",
     "output_type": "stream",
     "text": [
      "# Kepler-9b\n",
      "\n",
      "Earth density: \\rho_\\oplus = 5494.957 kg/m^3 = 5.494957 g/cm^3\n",
      "   density: rho = 0.0762 \\rho_\\oplus = 0.4186 g/cm^3\n",
      "HDI(68.27): rho = [0.0604 , 0.0875] \\rho_\\oplus = [0.3318 , 0.4810] g/cm^3\n",
      "HDI(95.44): rho = [0.0498 , 0.1041] \\rho_\\oplus = [0.2738 , 0.5722] g/cm^3\n",
      "HDI(99.74): rho = [0.0423 , 0.1252] \\rho_\\oplus = [0.2323 , 0.6882] g/cm^3\n",
      " **rho = 0.4186 _{-0.0868} ^{0.0624} g/cm^{3}\n",
      "\n"
     ]
    },
    {
     "data": {
      "image/png": "[encoded data removed]",
      "text/plain": [
       "<Figure size 1008x720 with 3 Axes>"
      ]
     },
     "metadata": {},
     "output_type": "display_data"
    }
   ],
   "source": [
    "# Kepler-9b\n",
    "m  = 43.4 # M_Earth unit\n",
    "# r, r_ne, r_pe = 8.48, -0.35, +0.35 # R_Earth unit\n",
    "r, r_ne, r_pe = 8.29, -0.43, +0.54 # R_Earth unit\n",
    "rho = bulk_density(m, r)\n",
    "print '# Kepler-9b'\n",
    "r_post, rho_post = bulk_density_post(m_post[:,0], r, r_ne, r_pe, seed=2018)\n",
    "hdi_and_distributions(rho, m_post[:,0], r_post, rho_post, body_id=2, nbins=nbins)"
   ]
  },
  {
   "cell_type": "code",
   "execution_count": 9,
   "metadata": {
    "collapsed": false
   },
   "outputs": [
    {
     "name": "stdout",
     "output_type": "stream",
     "text": [
      "# Kepler-9c\n",
      "\n",
      "Earth density: \\rho_\\oplus = 5494.957 kg/m^3 = 5.494957 g/cm^3\n",
      "   density: rho = 0.0567 \\rho_\\oplus = 0.3115 g/cm^3\n",
      "HDI(68.27): rho = [0.0456 , 0.0658] \\rho_\\oplus = [0.2504 , 0.3615] g/cm^3\n",
      "HDI(95.44): rho = [0.0366 , 0.0770] \\rho_\\oplus = [0.2010 , 0.4232] g/cm^3\n",
      "HDI(99.74): rho = [0.0310 , 0.0916] \\rho_\\oplus = [0.1702 , 0.5034] g/cm^3\n",
      " **rho = 0.3115 _{-0.0611} ^{0.0500} g/cm^{3}\n",
      "\n"
     ]
    },
    {
     "data": {
      "image/png": "[encoded data removed]",
      "text/plain": [
       "<Figure size 1008x720 with 3 Axes>"
      ]
     },
     "metadata": {},
     "output_type": "display_data"
    }
   ],
   "source": [
    "# Kepler-9c\n",
    "# m  = 30.0 # M_Earth unit\n",
    "m  = 29.9 # M_Earth unit\n",
    "# r, r_ne, r_pe = 8.27, -0.36, +0.35 # R_Earth unit\n",
    "r, r_ne, r_pe = 8.08, -0.41, +0.54 # R_Earth unit\n",
    "rho = bulk_density(m, r)\n",
    "print '# Kepler-9c'\n",
    "r_post, rho_post = bulk_density_post(m_post[:,1], r, r_ne, r_pe, seed=2018)\n",
    "hdi_and_distributions(rho, m_post[:,1], r_post, rho_post, body_id=3, nbins=nbins)"
   ]
  },
  {
   "cell_type": "code",
   "execution_count": null,
   "metadata": {
    "collapsed": true
   },
   "outputs": [],
   "source": []
  },
  {
   "cell_type": "code",
   "execution_count": null,
   "metadata": {},
   "outputs": [],
   "source": []
  }
 ],
 "metadata": {
  "kernelspec": {
   "display_name": "Python 3",
   "language": "python",
   "name": "python3"
  },
  "language_info": {
   "codemirror_mode": {
    "name": "ipython",
    "version": 3
   },
   "file_extension": ".py",
   "mimetype": "text/x-python",
   "name": "python",
   "nbconvert_exporter": "python",
   "pygments_lexer": "ipython3",
   "version": "3.7.0"
  }
 },
 "nbformat": 4,
 "nbformat_minor": 2
}
