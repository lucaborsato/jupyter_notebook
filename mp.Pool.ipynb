{
 "cells": [
  {
   "cell_type": "markdown",
   "metadata": {},
   "source": [
    "# Testing multiprocessing Pool"
   ]
  },
  {
   "cell_type": "code",
   "execution_count": 5,
   "metadata": {},
   "outputs": [],
   "source": [
    "import numpy as np\n",
    "import os\n",
    "# import multiprocessing as mp\n",
    "import pathos.multiprocessing as mp"
   ]
  },
  {
   "cell_type": "markdown",
   "metadata": {},
   "source": [
    "Defines function to use:"
   ]
  },
  {
   "cell_type": "code",
   "execution_count": 6,
   "metadata": {},
   "outputs": [],
   "source": [
    "def doit(x,y,ix):\n",
    "    \n",
    "    pid = os.getpid()\n",
    "    out = x*x + y\n",
    "    print 'PID %d: ix = %d, x = %d, y = %d ==> out = %d' %(pid, ix, x, y, out)\n",
    "    \n",
    "    return [ix, out]"
   ]
  },
  {
   "cell_type": "code",
   "execution_count": 7,
   "metadata": {},
   "outputs": [],
   "source": [
    "y = 10\n",
    "ll = [[i,y,i] for i in range(0,10)]\n",
    "def doit_map(arg):\n",
    "    \n",
    "    out = doit(arg[0], arg[1], arg[2])\n",
    "    \n",
    "    return out"
   ]
  },
  {
   "cell_type": "markdown",
   "metadata": {},
   "source": [
    "Defines number of threads of the Pool, creates the Pool ... "
   ]
  },
  {
   "cell_type": "code",
   "execution_count": 8,
   "metadata": {},
   "outputs": [
    {
     "name": "stdout",
     "output_type": "stream",
     "text": [
      "PID 3842: ix = 0, x = 0, y = 10 ==> out = 10\n",
      "PID 3843: ix = 2, x = 2, y = 10 ==> out = 14\n",
      "PID 3843: ix = 3, x = 3, y = 10 ==> out = 19\n",
      "PID 3842: ix = 1, x = 1, y = 10 ==> out = 11\n",
      "PID 3843: ix = 4, x = 4, y = 10 ==> out = 26\n",
      "PID 3842: ix = 6, x = 6, y = 10 ==> out = 46\n",
      "PID 3843: ix = 5, x = 5, y = 10 ==> out = 35\n",
      "PID 3842: ix = 7, x = 7, y = 10 ==> out = 59\n",
      "PID 3843: ix = 8, x = 8, y = 10 ==> out = 74\n",
      "PID 3843: ix = 9, x = 9, y = 10 ==> out = 91\n"
     ]
    }
   ],
   "source": [
    "nth = 2\n",
    "# uses the map\n",
    "pool = mp.Pool(nth)\n",
    "out_all = pool.map(doit_map, ll)\n",
    "pool.close()\n",
    "pool.join()"
   ]
  },
  {
   "cell_type": "code",
   "execution_count": 9,
   "metadata": {},
   "outputs": [
    {
     "name": "stdout",
     "output_type": "stream",
     "text": [
      "[[0, 10], [1, 11], [2, 14], [3, 19], [4, 26], [5, 35], [6, 46], [7, 59], [8, 74], [9, 91]]\n"
     ]
    }
   ],
   "source": [
    "print out_all"
   ]
  },
  {
   "cell_type": "code",
   "execution_count": 10,
   "metadata": {},
   "outputs": [
    {
     "name": "stdout",
     "output_type": "stream",
     "text": [
      "PID 3882: ix = 0, x = 0, y = 10 ==> out = 10\n",
      "PID 3883: ix = 2, x = 2, y = 10 ==> out = 14\n",
      "PID 3883: ix = 3, x = 3, y = 10 ==> out = 19\n",
      "PID 3882: ix = 1, x = 1, y = 10 ==> out = 11\n",
      "PID 3882: ix = 4, x = 4, y = 10 ==> out = 26\n",
      "PID 3883: ix = 6, x = 6, y = 10 ==> out = 46\n",
      "PID 3882: ix = 5, x = 5, y = 10 ==> out = 35\n",
      "PID 3883: ix = 7, x = 7, y = 10 ==> out = 59\n",
      "PID 3882: ix = 8, x = 8, y = 10 ==> out = 74\n",
      "PID 3882: ix = 9, x = 9, y = 10 ==> out = 91\n"
     ]
    }
   ],
   "source": [
    "# uses map_async\n",
    "pool = mp.Pool(nth)\n",
    "out_all = pool.map_async(doit_map, ll)\n",
    "pool.close()\n",
    "pool.join()"
   ]
  },
  {
   "cell_type": "code",
   "execution_count": 11,
   "metadata": {},
   "outputs": [
    {
     "name": "stdout",
     "output_type": "stream",
     "text": [
      "[[0, 10], [1, 11], [2, 14], [3, 19], [4, 26], [5, 35], [6, 46], [7, 59], [8, 74], [9, 91]]\n"
     ]
    }
   ],
   "source": [
    "print out_all.get()"
   ]
  },
  {
   "cell_type": "code",
   "execution_count": null,
   "metadata": {},
   "outputs": [],
   "source": []
  }
 ],
 "metadata": {
  "kernelspec": {
   "display_name": "Python 3",
   "language": "python",
   "name": "python3"
  },
  "language_info": {
   "codemirror_mode": {
    "name": "ipython",
    "version": 3
   },
   "file_extension": ".py",
   "mimetype": "text/x-python",
   "name": "python",
   "nbconvert_exporter": "python",
   "pygments_lexer": "ipython3",
   "version": "3.7.0"
  }
 },
 "nbformat": 4,
 "nbformat_minor": 2
}
