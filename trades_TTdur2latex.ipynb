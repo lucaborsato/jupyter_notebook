{
 "cells": [
  {
   "cell_type": "markdown",
   "metadata": {},
   "source": [
    "Given file for TRADES with Transit Times (TT) and Durations (T41) it returns a latex style file."
   ]
  },
  {
   "cell_type": "code",
   "execution_count": 1,
   "metadata": {},
   "outputs": [],
   "source": [
    "import numpy as np\n",
    "import os\n",
    "# custom costants module from LucaBorsato\n",
    "import pyconstants as cst"
   ]
  },
  {
   "cell_type": "code",
   "execution_count": 2,
   "metadata": {},
   "outputs": [],
   "source": [
    "class transit_data:\n",
    "    \n",
    "    def __init__(self):\n",
    "        self.epo = []\n",
    "        self.TT_bjd = []\n",
    "        self.TT_kbjd = []\n",
    "        self.eTTd = []\n",
    "        self.eTTm = []\n",
    "        self.T41m = []\n",
    "        self.eT41m = []\n",
    "        self.lc_in = []\n",
    "        self.lc_out = []\n",
    "    \n",
    "    def read_input(self,nb_file):\n",
    "    \n",
    "        # epoch TT_d eTT_d Dur_m eDur_m lc_type\n",
    "        data = np.genfromtxt(nb_file,\n",
    "                             dtype=[('epo','i8'),\n",
    "                                    ('TT_bjd','f8'),('eTTd','f8'),\n",
    "                                    ('T41m', 'f8'),('eT41m', 'f8'),\n",
    "                                    ('lc','|S3')\n",
    "                                   ]\n",
    "                            )\n",
    "        self.epo = data['epo']\n",
    "        self.TT_bjd = data['TT_bjd']\n",
    "        self.TT_kbjd = self.TT_bjd - cst.Tkplr\n",
    "        self.eTTd = data['eTTd']\n",
    "        self.eTTm = self.eTTd * cst.d2m\n",
    "        self.T41m = data['T41m']\n",
    "        self.eT41m = data['eT41m']\n",
    "        self.lc_in = data['lc']\n",
    "        self.lc_out = np.array([lc.strip().replace('llc','LC').replace('slc','SC') for lc in self.lc_in], dtype='S2')\n",
    "        \n",
    "    def write_output(self,out_file):\n",
    "        \n",
    "        oheader = 'epoch & $TT (\\textrm{KBJD_TDB})$ & $\\sigma_TT$ (min) & $T_{41}$ (min) & $\\sigma_{T_{41}}$ (min)$ & SC\\/LC'\n",
    "#         ofmt = ['%4d', '%12.5f', '%4.1f', '%7.1f', '%4.1f', '%3s']\n",
    "#         odata = np.column_stack((self.epo, self.TT_kbjd, self.eTTm, self.T41m, self.eT41m, self.lc_out))\n",
    "#         np.savetxt(out_file, odata, header=oheader, fmt=ofmt)\n",
    "        of = open(out_file, 'w')\n",
    "        ntt = np.shape(self.TT_bjd)[0]\n",
    "        for i in range(0,ntt):\n",
    "            line = '%4d & %12.5f & %4.1f & %7.1f & %4.1f & %2s \\\\\\\\ \\n' %(self.epo[i],\n",
    "                                                                    self.TT_kbjd[i], self.eTTm[i],\n",
    "                                                                    self.T41m[i], self.eT41m[i],\n",
    "                                                                    self.lc_out[i]\n",
    "                                                                    )\n",
    "            of.write(line)\n",
    "        of.close()\n"
   ]
  },
  {
   "cell_type": "markdown",
   "metadata": {},
   "source": [
    "Provide folder, input & output file for each body."
   ]
  },
  {
   "cell_type": "code",
   "execution_count": 3,
   "metadata": {},
   "outputs": [],
   "source": [
    "# mdir = os.path.abspath('/home/borsato/Dropbox/Research/Kepler/K9/LC/2018-05-11_run/fit_summary')\n",
    "mdir = os.path.abspath('/home/borsato/Dropbox/Research/Kepler/K9/LC/2018-11-08_09_run/fit_summary')\n",
    "# Kepler-9b\n",
    "ifile = os.path.join(mdir, 'NB2_observations.dat')\n",
    "ofile = os.path.join(mdir, 'K9b.tex')\n",
    "k9b = transit_data()\n",
    "k9b.read_input(ifile)\n",
    "k9b.write_output(ofile)\n",
    "# Kepler-9c\n",
    "ifile = os.path.join(mdir, 'NB3_observations.dat')\n",
    "ofile = os.path.join(mdir, 'K9c.tex')\n",
    "k9c = transit_data()\n",
    "k9c.read_input(ifile)\n",
    "k9c.write_output(ofile)"
   ]
  },
  {
   "cell_type": "code",
   "execution_count": null,
   "metadata": {},
   "outputs": [],
   "source": []
  }
 ],
 "metadata": {
  "kernelspec": {
   "display_name": "Python 2",
   "language": "python",
   "name": "python2"
  },
  "language_info": {
   "codemirror_mode": {
    "name": "ipython",
    "version": 2
   },
   "file_extension": ".py",
   "mimetype": "text/x-python",
   "name": "python",
   "nbconvert_exporter": "python",
   "pygments_lexer": "ipython2",
   "version": "2.7.15"
  }
 },
 "nbformat": 4,
 "nbformat_minor": 2
}
